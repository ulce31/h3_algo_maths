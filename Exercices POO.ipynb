{
 "cells": [
  {
   "cell_type": "markdown",
   "id": "analyzed-david",
   "metadata": {},
   "source": [
    "### Étude de cas "
   ]
  },
  {
   "cell_type": "code",
   "execution_count": 14,
   "id": "certain-madonna",
   "metadata": {},
   "outputs": [
    {
     "ename": "SyntaxError",
     "evalue": "invalid syntax (<ipython-input-14-3af3d6ac2f4d>, line 8)",
     "output_type": "error",
     "traceback": [
      "\u001b[0;36m  File \u001b[0;32m\"<ipython-input-14-3af3d6ac2f4d>\"\u001b[0;36m, line \u001b[0;32m8\u001b[0m\n\u001b[0;31m    return \"x: {}, y: {}\".\u001b[0m\n\u001b[0m                          ^\u001b[0m\n\u001b[0;31mSyntaxError\u001b[0m\u001b[0;31m:\u001b[0m invalid syntax\n"
     ]
    }
   ],
   "source": [
    "class Vecteur:\n",
    "    \"\"\"\n",
    "    \"\"\"\n",
    "    def __init__(self, x, y):\n",
    "        self.x=x\n",
    "        self.y=y\n",
    "    def __repr__(self):\n",
    "        return \"x: {}, y: {}\"."
   ]
  },
  {
   "cell_type": "markdown",
   "id": "advance-buffer",
   "metadata": {},
   "source": [
    "## Exercices de POO"
   ]
  },
  {
   "cell_type": "markdown",
   "id": "painful-astrology",
   "metadata": {},
   "source": [
    "### Le compte bancaire"
   ]
  },
  {
   "cell_type": "code",
   "execution_count": 18,
   "id": "sudden-great",
   "metadata": {},
   "outputs": [
    {
     "name": "stdout",
     "output_type": "stream",
     "text": [
      "<bound method CompteBancaire.__repr__ of CompteBancaire(\"Dupont, 1050.0\")>\n"
     ]
    }
   ],
   "source": [
    "class CompteBancaire:\n",
    "    \"\"\"\n",
    "        Classe CompteBancaire\n",
    "        nom : string\n",
    "        solde: float\n",
    "    \"\"\"\n",
    "    def __init__(self, nom = 'Dupont', solde = 1000.00):\n",
    "        self.nom= nom\n",
    "        self.solde= solde\n",
    "        \n",
    "    def depot(self,somme_a_ajoute):\n",
    "        self.solde += float(somme_a_ajoute)\n",
    "        return \"La somme a bien été ajoutée\" \n",
    "    \n",
    "    def retrait(self, somme_a_retirer):\n",
    "        self.solde -= float(somme_a_retirer)\n",
    "        return \"La somme a bien été retirée\"\n",
    "    \n",
    "    def __repr__(self):\n",
    "        return f'CompteBancaire(\"{self.nom}, {self.solde}\")'\n",
    "    \n",
    "        \n",
    "compte_1= CompteBancaire()\n",
    "compte_1.depot(50)\n",
    "print(compte_1.__repr__)"
   ]
  },
  {
   "cell_type": "markdown",
   "id": "allied-worry",
   "metadata": {},
   "source": [
    "### La surcharge d'opérateur"
   ]
  },
  {
   "cell_type": "code",
   "execution_count": 40,
   "id": "meaningful-aviation",
   "metadata": {},
   "outputs": [
    {
     "data": {
      "text/plain": [
       "P(2, 3)"
      ]
     },
     "execution_count": 40,
     "metadata": {},
     "output_type": "execute_result"
    }
   ],
   "source": [
    "class Point:\n",
    "    def __init__(self, x, y, z= None):\n",
    "        self.x = x\n",
    "        self.y = y\n",
    "        self.z = z\n",
    "        \n",
    "    def __repr__ (self):\n",
    "        if not self.z :\n",
    "            return f'P({self.x}, {self.y})'\n",
    "        else :\n",
    "            return f'P({self.x}, {self.y}, {self.z})'\n",
    "Point(2, 3)"
   ]
  },
  {
   "cell_type": "markdown",
   "id": "graduate-smell",
   "metadata": {},
   "source": [
    "### L'heritage simple"
   ]
  },
  {
   "cell_type": "code",
   "execution_count": 53,
   "id": "regional-anger",
   "metadata": {},
   "outputs": [],
   "source": [
    "class DateNaissance:\n",
    "    \"\"\"\n",
    "        Class DateNaissance\n",
    "        jour : int\n",
    "        mois : int\n",
    "        mois : int\n",
    "    \"\"\"\n",
    "    def __init__(self, jour, mois, annee):\n",
    "        self.jour = jour\n",
    "        self.mois = mois\n",
    "        self.annee = annee\n",
    "        \n",
    "    def __repr__ (self):\n",
    "        return f'{self.jour}/{self.mois}/{self.annee}'"
   ]
  },
  {
   "cell_type": "code",
   "execution_count": 70,
   "id": "arranged-tackle",
   "metadata": {},
   "outputs": [],
   "source": [
    "class Personne():\n",
    "    def __init__(self, nom, prenom, DateNaissance):\n",
    "        self.nom = nom\n",
    "        self.prenom = prenom\n",
    "        self.DateNaissance = DateNaissance\n",
    "    def __repr__(self):\n",
    "        return f'Nom: {self.nom} \\nPrénom: {self.prenom} \\nDate de naissance: {self.DateNaissance}'\n"
   ]
  },
  {
   "cell_type": "code",
   "execution_count": 67,
   "id": "geographic-pressure",
   "metadata": {},
   "outputs": [],
   "source": [
    "class Employe():\n",
    "    def __init__(self, personne, salaire):\n",
    "        self.Personne = personne\n",
    "        self.salaire = salaire\n",
    "    def __repr__(self):\n",
    "        return f'{self.Personne}\\nSalaire:{self.salaire}'\n",
    "    \n",
    "class Chef(Employe):\n",
    "    def __init__(self, employe, service):\n",
    "        self.Employe = employe\n",
    "        self.service = service\n",
    "    def __repr__(self):\n",
    "        return f'{self.Employe}\\nService: {self.service}'"
   ]
  },
  {
   "cell_type": "code",
   "execution_count": 71,
   "id": "married-promise",
   "metadata": {},
   "outputs": [
    {
     "data": {
      "text/plain": [
       "Nom: Ilyass \n",
       "Prénom: Math \n",
       "Date de naissance: 1/7/1982"
      ]
     },
     "execution_count": 71,
     "metadata": {},
     "output_type": "execute_result"
    }
   ],
   "source": [
    "P=Personne(\"Ilyass\",\"Math\",DateNaissance(1,7,1982))\n",
    "P"
   ]
  },
  {
   "cell_type": "code",
   "execution_count": 61,
   "id": "ceramic-notebook",
   "metadata": {},
   "outputs": [
    {
     "data": {
      "text/plain": [
       "Nom: Ilyass \n",
       "Prénom: Math \n",
       "Date de naissance: 1/7/1985\n",
       "Salaire:7865.548"
      ]
     },
     "execution_count": 61,
     "metadata": {},
     "output_type": "execute_result"
    }
   ],
   "source": [
    "### Attention à bien englober Personne (\"Ilyass\", \"Math\", DateNaissance(1,7,1985))\n",
    "E=Employe(Personne(\"Ilyass\",\"Math\",DateNaissance(1,7,1985)),7865.548)\n",
    "E"
   ]
  },
  {
   "cell_type": "code",
   "execution_count": 66,
   "id": "talented-cancellation",
   "metadata": {},
   "outputs": [
    {
     "data": {
      "text/plain": [
       "Nom: Ilyass \n",
       "Prénom: Math \n",
       "Date de naissance: 1/7/1988\n",
       "Salaire:7865.548\n",
       "Service:Ressource humaine"
      ]
     },
     "execution_count": 66,
     "metadata": {},
     "output_type": "execute_result"
    }
   ],
   "source": [
    "Ch=Chef(Employe(Personne(\"Ilyass\",\"Math\",DateNaissance(1,7,1988)),7865.548),\"Ressource humaine\")\n",
    "Ch"
   ]
  },
  {
   "cell_type": "markdown",
   "id": "perceived-cheat",
   "metadata": {},
   "source": [
    "### Le Polymorphisme"
   ]
  },
  {
   "cell_type": "code",
   "execution_count": 20,
   "id": "certain-grave",
   "metadata": {},
   "outputs": [],
   "source": [
    "class Courrier:\n",
    "    def __init__(self, poids, mode_expedition, adresse_destination, adresse_expedition):\n",
    "        self.poids = poids\n",
    "        self.mode_expedition = mode_expedition\n",
    "        self.adresse_destination = adresse_destination\n",
    "        self.adresse_expedition = adresse_expedition\n",
    "    def __repr__(self):\n",
    "        return f'Adresse destination: {self.adresse_destination}\\nAdresse expedition: {self.adresse_expedition}\\nPoids: {self.poids}\\nMode d’expédition:{self.mode_expedition}' "
   ]
  },
  {
   "cell_type": "code",
   "execution_count": 25,
   "id": "joint-buyer",
   "metadata": {},
   "outputs": [],
   "source": [
    "class Lettre:\n",
    "    def __init__(self, courrier, format_papier):\n",
    "        self.Courrier = courrier\n",
    "        self.format_papier = format_papier\n",
    "    \n",
    "    def calcul_prix_timbre(self):\n",
    "        prix_de_base = 0\n",
    "        if self.format_papier == \"A4\":\n",
    "            prix_de_base = 2.50\n",
    "        if self.format_papier == \"A3\":\n",
    "            prix_de_base = 3.50\n",
    "            \n",
    "        resultat = prix_de_base*self.Courrier.poids/1000\n",
    "        print(self.Courrier.mode_expedition)\n",
    "        if self.Courrier.mode_expedition == \"express\":\n",
    "            resultat*=2.0\n",
    "        return resultat\n",
    "    def __repr__(self):\n",
    "        return f'Lettre:\\n{self.Courrier}\\nPrix du timbre: {self.calcul_prix_timbre()}'"
   ]
  },
  {
   "cell_type": "code",
   "execution_count": 37,
   "id": "broadband-toilet",
   "metadata": {},
   "outputs": [],
   "source": [
    "class Colis:\n",
    "    def __init__(self, courrier, volume): \n",
    "        self.Courrier = courrier\n",
    "        self.volume = volume\n",
    "        \n",
    "    def calcul_prix_colis(self):\n",
    "        resultat = 0.25*self.volume*self.Courrier.poids/1000\n",
    "        if self.Courrier.mode_expedition == \"express\":\n",
    "            resultat*=2\n",
    "        return resultat\n",
    "    def __repr__(self):\n",
    "        return f'Colis:\\n{self.Courrier}\\nPrix du timbre: {self.calcul_prix_colis()}'"
   ]
  },
  {
   "cell_type": "code",
   "execution_count": 27,
   "id": "greenhouse-tribune",
   "metadata": {},
   "outputs": [
    {
     "name": "stdout",
     "output_type": "stream",
     "text": [
      "express\n"
     ]
    },
    {
     "data": {
      "text/plain": [
       "Lettre:\n",
       "Adresse destination: Lille\n",
       "Adresse expedition: Paris\n",
       "Poids: 80\n",
       "Mode d’expédition:express\n",
       "Prix du timbre: 0.4"
      ]
     },
     "execution_count": 27,
     "metadata": {},
     "output_type": "execute_result"
    }
   ],
   "source": [
    "L1=Lettre(Courrier(80,\"express\",\"Lille\",\"Paris\"),\"A4\")\n",
    "L1"
   ]
  },
  {
   "cell_type": "code",
   "execution_count": 39,
   "id": "proved-effects",
   "metadata": {},
   "outputs": [
    {
     "data": {
      "text/plain": [
       "Colis:\n",
       "Adresse destination: Marrakeche\n",
       "Adresse expedition: Barcelone\n",
       "Poids: 3500\n",
       "Mode d’expédition:express\n",
       "Prix du timbre: 3.9375"
      ]
     },
     "execution_count": 39,
     "metadata": {},
     "output_type": "execute_result"
    }
   ],
   "source": [
    "C1=Colis(Courrier(3500,'express','Marrakeche','Barcelone'),2.25)\n",
    "C1"
   ]
  }
 ],
 "metadata": {
  "kernelspec": {
   "display_name": "Python 3",
   "language": "python",
   "name": "python3"
  },
  "language_info": {
   "codemirror_mode": {
    "name": "ipython",
    "version": 3
   },
   "file_extension": ".py",
   "mimetype": "text/x-python",
   "name": "python",
   "nbconvert_exporter": "python",
   "pygments_lexer": "ipython3",
   "version": "3.9.2"
  }
 },
 "nbformat": 4,
 "nbformat_minor": 5
}
