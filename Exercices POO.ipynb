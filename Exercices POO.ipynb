{
 "cells": [
  {
   "cell_type": "markdown",
   "id": "collaborative-sweet",
   "metadata": {},
   "source": [
    "### Étude de cas "
   ]
  },
  {
   "cell_type": "code",
   "execution_count": 14,
   "id": "vital-dietary",
   "metadata": {},
   "outputs": [
    {
     "ename": "SyntaxError",
     "evalue": "invalid syntax (<ipython-input-14-3af3d6ac2f4d>, line 8)",
     "output_type": "error",
     "traceback": [
      "\u001b[0;36m  File \u001b[0;32m\"<ipython-input-14-3af3d6ac2f4d>\"\u001b[0;36m, line \u001b[0;32m8\u001b[0m\n\u001b[0;31m    return \"x: {}, y: {}\".\u001b[0m\n\u001b[0m                          ^\u001b[0m\n\u001b[0;31mSyntaxError\u001b[0m\u001b[0;31m:\u001b[0m invalid syntax\n"
     ]
    }
   ],
   "source": [
    "class Vecteur:\n",
    "    \"\"\"\n",
    "    \"\"\"\n",
    "    def __init__(self, x, y):\n",
    "        self.x=x\n",
    "        self.y=y\n",
    "    def __repr__(self):\n",
    "        return \"x: {}, y: {}\"."
   ]
  },
  {
   "cell_type": "markdown",
   "id": "fossil-biography",
   "metadata": {},
   "source": [
    "## Exercices de POO"
   ]
  },
  {
   "cell_type": "markdown",
   "id": "suited-purpose",
   "metadata": {},
   "source": [
    "### Le compte bancaire"
   ]
  },
  {
   "cell_type": "code",
   "execution_count": 18,
   "id": "solved-photography",
   "metadata": {},
   "outputs": [
    {
     "name": "stdout",
     "output_type": "stream",
     "text": [
      "<bound method CompteBancaire.__repr__ of CompteBancaire(\"Dupont, 1050.0\")>\n"
     ]
    }
   ],
   "source": [
    "class CompteBancaire:\n",
    "    \"\"\"\n",
    "        Classe CompteBancaire\n",
    "        nom : string\n",
    "        solde: float\n",
    "    \"\"\"\n",
    "    def __init__(self, nom = 'Dupont', solde = 1000.00):\n",
    "        self.nom= nom\n",
    "        self.solde= solde\n",
    "        \n",
    "    def depot(self,somme_a_ajoute):\n",
    "        self.solde += float(somme_a_ajoute)\n",
    "        return \"La somme a bien été ajoutée\" \n",
    "    \n",
    "    def retrait(self, somme_a_retirer):\n",
    "        self.solde -= float(somme_a_retirer)\n",
    "        return \"La somme a bien été retirée\"\n",
    "    \n",
    "    def __repr__(self):\n",
    "        return f'CompteBancaire(\"{self.nom}, {self.solde}\")'\n",
    "    \n",
    "        \n",
    "compte_1= CompteBancaire()\n",
    "compte_1.depot(50)\n",
    "print(compte_1.__repr__)"
   ]
  },
  {
   "cell_type": "markdown",
   "id": "catholic-bulletin",
   "metadata": {},
   "source": [
    "### La surcharge d'opérateur"
   ]
  },
  {
   "cell_type": "code",
   "execution_count": 40,
   "id": "polyphonic-efficiency",
   "metadata": {},
   "outputs": [
    {
     "data": {
      "text/plain": [
       "P(2, 3)"
      ]
     },
     "execution_count": 40,
     "metadata": {},
     "output_type": "execute_result"
    }
   ],
   "source": [
    "class Point:\n",
    "    def __init__(self, x, y, z= None):\n",
    "        self.x = x\n",
    "        self.y = y\n",
    "        self.z = z\n",
    "        \n",
    "    def __repr__ (self):\n",
    "        if not self.z :\n",
    "            return f'P({self.x}, {self.y})'\n",
    "        else :\n",
    "            return f'P({self.x}, {self.y}, {self.z})'\n",
    "Point(2, 3)"
   ]
  },
  {
   "cell_type": "markdown",
   "id": "satisfactory-discipline",
   "metadata": {},
   "source": [
    "### L'heritage simple"
   ]
  },
  {
   "cell_type": "code",
   "execution_count": 53,
   "id": "cleared-circular",
   "metadata": {},
   "outputs": [],
   "source": [
    "class DateNaissance:\n",
    "    \"\"\"\n",
    "        Class DateNaissance\n",
    "        jour : int\n",
    "        mois : int\n",
    "        mois : int\n",
    "    \"\"\"\n",
    "    def __init__(self, jour, mois, annee):\n",
    "        self.jour = jour\n",
    "        self.mois = mois\n",
    "        self.annee = annee\n",
    "        \n",
    "    def __repr__ (self):\n",
    "        return f'{self.jour}/{self.mois}/{self.annee}'"
   ]
  },
  {
   "cell_type": "code",
   "execution_count": 51,
   "id": "proprietary-consideration",
   "metadata": {},
   "outputs": [],
   "source": [
    "class Personne(DateNaissance):\n",
    "    def __init__(self, nom, prenom, DateNaissance):\n",
    "        self.nom = nom\n",
    "        self.prenom = prenom\n",
    "        self.DateNaissance = DateNaissance\n",
    "    def __repr__(self):\n",
    "        return f'Nom: {self.nom} \\nPrénom: {self.prenom} \\nDate de naissance: {self.DateNaissance}'\n"
   ]
  },
  {
   "cell_type": "code",
   "execution_count": 67,
   "id": "devoted-dodge",
   "metadata": {},
   "outputs": [],
   "source": [
    "class Employe(Personne):\n",
    "    def __init__(self, personne, salaire):\n",
    "        self.Personne = personne\n",
    "        self.salaire = salaire\n",
    "    def __repr__(self):\n",
    "        return f'{self.Personne}\\nSalaire:{self.salaire}'\n",
    "    \n",
    "class Chef(Employe):\n",
    "    def __init__(self, employe, service):\n",
    "        self.Employe = employe\n",
    "        self.service = service\n",
    "    def __repr__(self):\n",
    "        return f'{self.Employe}\\nService: {self.service}'"
   ]
  },
  {
   "cell_type": "code",
   "execution_count": 54,
   "id": "protected-highway",
   "metadata": {},
   "outputs": [
    {
     "data": {
      "text/plain": [
       "Nom: Ilyass \n",
       "Prénom: Math \n",
       "Date de naissance: 1/7/1982"
      ]
     },
     "execution_count": 54,
     "metadata": {},
     "output_type": "execute_result"
    }
   ],
   "source": [
    "P=Personne(\"Ilyass\",\"Math\",DateNaissance(1,7,1982))\n",
    "P"
   ]
  },
  {
   "cell_type": "code",
   "execution_count": 61,
   "id": "lyric-seafood",
   "metadata": {},
   "outputs": [
    {
     "data": {
      "text/plain": [
       "Nom: Ilyass \n",
       "Prénom: Math \n",
       "Date de naissance: 1/7/1985\n",
       "Salaire:7865.548"
      ]
     },
     "execution_count": 61,
     "metadata": {},
     "output_type": "execute_result"
    }
   ],
   "source": [
    "### Attention à bien englober \"Ilyass\", \"Math\", DateNaissance(1,7,1985) et \n",
    "E=Employe(Personne(\"Ilyass\",\"Math\",DateNaissance(1,7,1985)),7865.548)\n",
    "E"
   ]
  },
  {
   "cell_type": "code",
   "execution_count": 66,
   "id": "convertible-weekly",
   "metadata": {},
   "outputs": [
    {
     "data": {
      "text/plain": [
       "Nom: Ilyass \n",
       "Prénom: Math \n",
       "Date de naissance: 1/7/1988\n",
       "Salaire:7865.548\n",
       "Service:Ressource humaine"
      ]
     },
     "execution_count": 66,
     "metadata": {},
     "output_type": "execute_result"
    }
   ],
   "source": [
    "Ch=Chef(Employe(Personne(\"Ilyass\",\"Math\",DateNaissance(1,7,1988)),7865.548),\"Ressource humaine\")\n",
    "Ch"
   ]
  }
 ],
 "metadata": {
  "kernelspec": {
   "display_name": "Python 3",
   "language": "python",
   "name": "python3"
  },
  "language_info": {
   "codemirror_mode": {
    "name": "ipython",
    "version": 3
   },
   "file_extension": ".py",
   "mimetype": "text/x-python",
   "name": "python",
   "nbconvert_exporter": "python",
   "pygments_lexer": "ipython3",
   "version": "3.9.2"
  }
 },
 "nbformat": 4,
 "nbformat_minor": 5
}
