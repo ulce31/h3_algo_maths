{
 "cells": [
  {
   "cell_type": "markdown",
   "id": "selective-camera",
   "metadata": {},
   "source": [
    "### Étude de cas "
   ]
  },
  {
   "cell_type": "code",
   "execution_count": 14,
   "id": "fabulous-reader",
   "metadata": {},
   "outputs": [
    {
     "ename": "SyntaxError",
     "evalue": "invalid syntax (<ipython-input-14-3af3d6ac2f4d>, line 8)",
     "output_type": "error",
     "traceback": [
      "\u001b[0;36m  File \u001b[0;32m\"<ipython-input-14-3af3d6ac2f4d>\"\u001b[0;36m, line \u001b[0;32m8\u001b[0m\n\u001b[0;31m    return \"x: {}, y: {}\".\u001b[0m\n\u001b[0m                          ^\u001b[0m\n\u001b[0;31mSyntaxError\u001b[0m\u001b[0;31m:\u001b[0m invalid syntax\n"
     ]
    }
   ],
   "source": [
    "class Vecteur:\n",
    "    \"\"\"\n",
    "    \"\"\"\n",
    "    def __init__(self, x, y):\n",
    "        self.x=x\n",
    "        self.y=y\n",
    "    def __repr__(self):\n",
    "        return \"x: {}, y: {}\"."
   ]
  },
  {
   "cell_type": "markdown",
   "id": "recorded-proxy",
   "metadata": {},
   "source": [
    "## Exercices de POO"
   ]
  },
  {
   "cell_type": "markdown",
   "id": "elder-insert",
   "metadata": {},
   "source": [
    "### Le compte bancaire"
   ]
  },
  {
   "cell_type": "code",
   "execution_count": 18,
   "id": "loose-series",
   "metadata": {},
   "outputs": [
    {
     "name": "stdout",
     "output_type": "stream",
     "text": [
      "<bound method CompteBancaire.__repr__ of CompteBancaire(\"Dupont, 1050.0\")>\n"
     ]
    }
   ],
   "source": [
    "class CompteBancaire:\n",
    "    \"\"\"\n",
    "        Classe CompteBancaire\n",
    "        nom : string\n",
    "        solde: float\n",
    "    \"\"\"\n",
    "    def __init__(self, nom = 'Dupont', solde = 1000.00):\n",
    "        self.nom= nom\n",
    "        self.solde= solde\n",
    "        \n",
    "    def depot(self,somme_a_ajoute):\n",
    "        self.solde += float(somme_a_ajoute)\n",
    "        return \"La somme a bien été ajoutée\" \n",
    "    \n",
    "    def retrait(self, somme_a_retirer):\n",
    "        self.solde -= float(somme_a_retirer)\n",
    "        return \"La somme a bien été retirée\"\n",
    "    \n",
    "    def __repr__(self):\n",
    "        return f'CompteBancaire(\"{self.nom}, {self.solde}\")'\n",
    "    \n",
    "        \n",
    "compte_1= CompteBancaire()\n",
    "compte_1.depot(50)\n",
    "print(compte_1.__repr__)"
   ]
  },
  {
   "cell_type": "markdown",
   "id": "desperate-flour",
   "metadata": {},
   "source": [
    "### La surcharge d'opérateur"
   ]
  },
  {
   "cell_type": "code",
   "execution_count": 33,
   "id": "fitting-billy",
   "metadata": {},
   "outputs": [
    {
     "data": {
      "text/plain": [
       "<method-wrapper '__repr__' of Point object at 0x109302cd0>"
      ]
     },
     "execution_count": 33,
     "metadata": {},
     "output_type": "execute_result"
    }
   ],
   "source": [
    "class Point:\n",
    "    def __init__(self, x, y, z= None):\n",
    "        self.x = x\n",
    "        self.y = y\n",
    "        self.z = z\n",
    "        \n",
    "        def __repr__ (self):\n",
    "            if self.z == None:\n",
    "                return f'P({self.x}, {self.y})'\n",
    "            else :\n",
    "                return f'P({self.x}, {self.y}, {self.z})'\n",
    "Point(2, 3).__repr__"
   ]
  },
  {
   "cell_type": "code",
   "execution_count": null,
   "id": "closed-hindu",
   "metadata": {},
   "outputs": [],
   "source": []
  }
 ],
 "metadata": {
  "kernelspec": {
   "display_name": "Python 3",
   "language": "python",
   "name": "python3"
  },
  "language_info": {
   "codemirror_mode": {
    "name": "ipython",
    "version": 3
   },
   "file_extension": ".py",
   "mimetype": "text/x-python",
   "name": "python",
   "nbconvert_exporter": "python",
   "pygments_lexer": "ipython3",
   "version": "3.9.2"
  }
 },
 "nbformat": 4,
 "nbformat_minor": 5
}
