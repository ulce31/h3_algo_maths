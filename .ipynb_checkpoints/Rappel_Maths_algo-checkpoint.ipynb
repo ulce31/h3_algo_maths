{
 "cells": [
  {
   "cell_type": "markdown",
   "id": "passing-episode",
   "metadata": {},
   "source": [
    "# Exercices Algorithmique"
   ]
  },
  {
   "cell_type": "markdown",
   "id": "present-personality",
   "metadata": {},
   "source": [
    "## Bases"
   ]
  },
  {
   "cell_type": "markdown",
   "id": "determined-amber",
   "metadata": {},
   "source": [
    "### 1.1 Simple échange"
   ]
  },
  {
   "cell_type": "code",
   "execution_count": 1,
   "id": "casual-banking",
   "metadata": {},
   "outputs": [],
   "source": [
    "variable_a = 0\n",
    "variable_b = 1\n",
    "tmp = variable_b\n",
    "variable_b = variable_a\n",
    "variable_a = tmp"
   ]
  },
  {
   "cell_type": "markdown",
   "id": "simple-denmark",
   "metadata": {},
   "source": [
    "### 1.2 Le carré"
   ]
  },
  {
   "cell_type": "code",
   "execution_count": 7,
   "id": "graphic-parts",
   "metadata": {},
   "outputs": [
    {
     "name": "stdout",
     "output_type": "stream",
     "text": [
      "Nombre: 4\n"
     ]
    },
    {
     "data": {
      "text/plain": [
       "16"
      ]
     },
     "execution_count": 7,
     "metadata": {},
     "output_type": "execute_result"
    }
   ],
   "source": [
    "nb = int(input(\"Nombre: \"))\n",
    "nb = nb * nb\n",
    "nb"
   ]
  },
  {
   "cell_type": "markdown",
   "id": "impressed-interference",
   "metadata": {},
   "source": [
    "### 1.3 La condition"
   ]
  },
  {
   "cell_type": "code",
   "execution_count": 9,
   "id": "spread-geology",
   "metadata": {},
   "outputs": [
    {
     "name": "stdout",
     "output_type": "stream",
     "text": [
      "Renseignez un nombre: 1\n",
      "positif\n"
     ]
    }
   ],
   "source": [
    "nb = int(input(\"Renseignez un nombre: \"))\n",
    "if nb <= 0:\n",
    "    print(\"négatif\")\n",
    "else : \n",
    "    print(\"positif\")"
   ]
  },
  {
   "cell_type": "markdown",
   "id": "mobile-journalism",
   "metadata": {},
   "source": [
    "### 1.4 Le produit"
   ]
  },
  {
   "cell_type": "code",
   "execution_count": 10,
   "id": "vulnerable-diameter",
   "metadata": {},
   "outputs": [
    {
     "name": "stdout",
     "output_type": "stream",
     "text": [
      "Donnez moi un nombre: 3\n",
      "Donnez moi un second nombre:-4\n",
      "Le résultat de cette opération est négatif\n"
     ]
    }
   ],
   "source": [
    "variable1 = int(input(\"Donnez moi un nombre: \"))\n",
    "variable2 = int(input(\"Donnez moi un second nombre:\"))\n",
    "if variable1 or variable2:\n",
    "    print (\"Le résultat de cette opération est négatif\")\n",
    "else : \n",
    "     print (\"Le résultat de cette opération est postion\")"
   ]
  },
  {
   "cell_type": "markdown",
   "id": "adjusted-astrology",
   "metadata": {},
   "source": [
    "### 1.5 Calcul"
   ]
  },
  {
   "cell_type": "code",
   "execution_count": 15,
   "id": "typical-hollow",
   "metadata": {},
   "outputs": [
    {
     "name": "stdout",
     "output_type": "stream",
     "text": [
      "Donnez moi un nombre: 10\n",
      "11\n",
      "12\n",
      "13\n",
      "14\n",
      "15\n",
      "16\n",
      "17\n",
      "18\n",
      "19\n",
      "20\n"
     ]
    }
   ],
   "source": [
    "nb = int(input(\"Donnez moi un nombre: \"))\n",
    "start_var = nb + 1\n",
    "for start_var in range(10):\n",
    "    nb = nb + 1\n",
    "    print (nb)"
   ]
  },
  {
   "cell_type": "markdown",
   "id": "breathing-broadcast",
   "metadata": {},
   "source": [
    "### 1.6 Additivité"
   ]
  },
  {
   "cell_type": "code",
   "execution_count": 32,
   "id": "seven-collection",
   "metadata": {},
   "outputs": [
    {
     "name": "stdout",
     "output_type": "stream",
     "text": [
      "un nombre : 5\n",
      "15\n"
     ]
    }
   ],
   "source": [
    "variable_fin = int(input(\"un nombre : \"))\n",
    "somme = 0\n",
    "\n",
    "for i in range(variable_fin):\n",
    "    somme = somme + i + 1\n",
    "print(somme)"
   ]
  },
  {
   "cell_type": "markdown",
   "id": "streaming-visibility",
   "metadata": {},
   "source": [
    "## Tableaux"
   ]
  },
  {
   "cell_type": "markdown",
   "id": "approved-dependence",
   "metadata": {},
   "source": [
    "### 2.1 La somme"
   ]
  },
  {
   "cell_type": "code",
   "execution_count": 10,
   "id": "humanitarian-prison",
   "metadata": {},
   "outputs": [
    {
     "name": "stdout",
     "output_type": "stream",
     "text": [
      "6\n"
     ]
    }
   ],
   "source": [
    "tab = [1,2,3]\n",
    "somme = 0\n",
    "for i in range(len(tab)):\n",
    "    somme += tab[i]\n",
    "print(somme)"
   ]
  },
  {
   "cell_type": "markdown",
   "id": "silent-pulse",
   "metadata": {},
   "source": [
    "### 2.2 La somme : retour"
   ]
  },
  {
   "cell_type": "code",
   "execution_count": 17,
   "id": "duplicate-eugene",
   "metadata": {},
   "outputs": [
    {
     "name": "stdout",
     "output_type": "stream",
     "text": [
      "[2, 4, 6]\n"
     ]
    }
   ],
   "source": [
    "tab_1 = [1,2,3]\n",
    "tab_2 = [1,2,3]\n",
    "tab_3 = []\n",
    "for i in range(len(tab_1)):\n",
    "    tab_3.append(tab_1[i] + tab_2[i]) \n",
    "print(tab_3)"
   ]
  },
  {
   "cell_type": "markdown",
   "id": "egyptian-indonesian",
   "metadata": {},
   "source": [
    "### 2.3 FacProduct"
   ]
  },
  {
   "cell_type": "code",
   "execution_count": null,
   "id": "senior-credit",
   "metadata": {},
   "outputs": [],
   "source": []
  }
 ],
 "metadata": {
  "kernelspec": {
   "display_name": "Python 3",
   "language": "python",
   "name": "python3"
  },
  "language_info": {
   "codemirror_mode": {
    "name": "ipython",
    "version": 3
   },
   "file_extension": ".py",
   "mimetype": "text/x-python",
   "name": "python",
   "nbconvert_exporter": "python",
   "pygments_lexer": "ipython3",
   "version": "3.9.1"
  }
 },
 "nbformat": 4,
 "nbformat_minor": 5
}
