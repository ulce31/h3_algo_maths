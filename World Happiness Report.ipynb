{
 "cells": [
  {
   "cell_type": "markdown",
   "id": "published-discussion",
   "metadata": {},
   "source": [
    "## Contexte\n",
    "Un pays émergent veut éviter de se retrouver dans la situation de stagnation/ décroissance que les pays développés rencontrent.\n",
    "Le pays en question a pour dogme de pensée que tout passe par une population heureuse, par conséquent elle m'emploi afin de :\n",
    "- Confronté son dogme à diverses caractéristiques sociétales\n",
    "- Savoir quels pays pourrait-être un allier (2 sur le même continent, 2 non ) et pourquoi ?\n",
    "- Observer les pays ayant perdu des places et voir pourquoi (1 pays développé, 1 pays émergent)"
   ]
  },
  {
   "cell_type": "code",
   "execution_count": 4,
   "id": "excited-access",
   "metadata": {},
   "outputs": [],
   "source": [
    "import pandas as pd\n",
    "import sklearn as skl"
   ]
  },
  {
   "cell_type": "code",
   "execution_count": null,
   "id": "abstract-improvement",
   "metadata": {},
   "outputs": [],
   "source": [
    "data_2016 = pd.read_csv()"
   ]
  }
 ],
 "metadata": {
  "kernelspec": {
   "display_name": "Python 3",
   "language": "python",
   "name": "python3"
  },
  "language_info": {
   "codemirror_mode": {
    "name": "ipython",
    "version": 3
   },
   "file_extension": ".py",
   "mimetype": "text/x-python",
   "name": "python",
   "nbconvert_exporter": "python",
   "pygments_lexer": "ipython3",
   "version": "3.9.5"
  }
 },
 "nbformat": 4,
 "nbformat_minor": 5
}
