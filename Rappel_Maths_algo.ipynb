{
 "cells": [
  {
   "cell_type": "markdown",
   "id": "passing-episode",
   "metadata": {},
   "source": [
    "# Exercices Algorithmique"
   ]
  },
  {
   "cell_type": "markdown",
   "id": "present-personality",
   "metadata": {},
   "source": [
    "## Bases"
   ]
  },
  {
   "cell_type": "markdown",
   "id": "determined-amber",
   "metadata": {},
   "source": [
    "### 1.1 Simple échange"
   ]
  },
  {
   "cell_type": "code",
   "execution_count": 1,
   "id": "casual-banking",
   "metadata": {},
   "outputs": [],
   "source": [
    "variable_a = 0\n",
    "variable_b = 1\n",
    "tmp = variable_b\n",
    "variable_b = variable_a\n",
    "variable_a = tmp"
   ]
  },
  {
   "cell_type": "markdown",
   "id": "simple-denmark",
   "metadata": {},
   "source": [
    "### 1.2 Le carré"
   ]
  },
  {
   "cell_type": "code",
   "execution_count": 7,
   "id": "graphic-parts",
   "metadata": {},
   "outputs": [
    {
     "name": "stdout",
     "output_type": "stream",
     "text": [
      "Nombre: 4\n"
     ]
    },
    {
     "data": {
      "text/plain": [
       "16"
      ]
     },
     "execution_count": 7,
     "metadata": {},
     "output_type": "execute_result"
    }
   ],
   "source": [
    "nb = int(input(\"Nombre: \"))\n",
    "nb = nb * nb\n",
    "nb"
   ]
  },
  {
   "cell_type": "markdown",
   "id": "impressed-interference",
   "metadata": {},
   "source": [
    "### 1.3 La condition"
   ]
  },
  {
   "cell_type": "code",
   "execution_count": 9,
   "id": "spread-geology",
   "metadata": {},
   "outputs": [
    {
     "name": "stdout",
     "output_type": "stream",
     "text": [
      "Renseignez un nombre: 1\n",
      "positif\n"
     ]
    }
   ],
   "source": [
    "nb = int(input(\"Renseignez un nombre: \"))\n",
    "if nb <= 0:\n",
    "    print(\"négatif\")\n",
    "else : \n",
    "    print(\"positif\")"
   ]
  },
  {
   "cell_type": "markdown",
   "id": "mobile-journalism",
   "metadata": {},
   "source": [
    "### 1.4 Le produit"
   ]
  },
  {
   "cell_type": "code",
   "execution_count": 5,
   "id": "vulnerable-diameter",
   "metadata": {},
   "outputs": [
    {
     "name": "stdout",
     "output_type": "stream",
     "text": [
      "Donnez moi un nombre: -4\n",
      "Donnez moi un second nombre: 5\n",
      "Le résultat de cette opération est négatif\n"
     ]
    }
   ],
   "source": [
    "variable1 = int(input(\"Donnez moi un nombre: \"))\n",
    "variable2 = int(input(\"Donnez moi un second nombre: \"))\n",
    "if variable1*variable2 <= 0:\n",
    "    print (\"Le résultat de cette opération est négatif\")\n",
    "else : \n",
    "     print (\"Le résultat de cette opération est positif\")"
   ]
  },
  {
   "cell_type": "markdown",
   "id": "adjusted-astrology",
   "metadata": {},
   "source": [
    "### 1.5 Calcul"
   ]
  },
  {
   "cell_type": "code",
   "execution_count": 15,
   "id": "typical-hollow",
   "metadata": {},
   "outputs": [
    {
     "name": "stdout",
     "output_type": "stream",
     "text": [
      "Donnez moi un nombre: 10\n",
      "11\n",
      "12\n",
      "13\n",
      "14\n",
      "15\n",
      "16\n",
      "17\n",
      "18\n",
      "19\n",
      "20\n"
     ]
    }
   ],
   "source": [
    "nb = int(input(\"Donnez moi un nombre: \"))\n",
    "start_var = nb + 1\n",
    "for start_var in range(10):\n",
    "    nb = nb + 1\n",
    "    print (nb)"
   ]
  },
  {
   "cell_type": "markdown",
   "id": "breathing-broadcast",
   "metadata": {},
   "source": [
    "### 1.6 Additivité"
   ]
  },
  {
   "cell_type": "code",
   "execution_count": 32,
   "id": "seven-collection",
   "metadata": {},
   "outputs": [
    {
     "name": "stdout",
     "output_type": "stream",
     "text": [
      "un nombre : 5\n",
      "15\n"
     ]
    }
   ],
   "source": [
    "variable_fin = int(input(\"un nombre : \"))\n",
    "somme = 0\n",
    "\n",
    "for i in range(variable_fin):\n",
    "    somme = somme + i + 1\n",
    "print(somme)"
   ]
  },
  {
   "cell_type": "markdown",
   "id": "streaming-visibility",
   "metadata": {},
   "source": [
    "## Tableaux"
   ]
  },
  {
   "cell_type": "markdown",
   "id": "approved-dependence",
   "metadata": {},
   "source": [
    "### 2.1 La somme"
   ]
  },
  {
   "cell_type": "code",
   "execution_count": 10,
   "id": "humanitarian-prison",
   "metadata": {},
   "outputs": [
    {
     "name": "stdout",
     "output_type": "stream",
     "text": [
      "6\n"
     ]
    }
   ],
   "source": [
    "tab = [1,2,3]\n",
    "somme = 0\n",
    "for i in range(len(tab)):\n",
    "    somme += tab[i]\n",
    "print(somme)"
   ]
  },
  {
   "cell_type": "markdown",
   "id": "silent-pulse",
   "metadata": {},
   "source": [
    "### 2.2 La somme : retour"
   ]
  },
  {
   "cell_type": "code",
   "execution_count": 17,
   "id": "duplicate-eugene",
   "metadata": {},
   "outputs": [
    {
     "name": "stdout",
     "output_type": "stream",
     "text": [
      "[2, 4, 6]\n"
     ]
    }
   ],
   "source": [
    "tab_1 = [1,2,3]\n",
    "tab_2 = [1,2,3]\n",
    "tab_3 = []\n",
    "for i in range(len(tab_1)):\n",
    "    tab_3.append(tab_1[i] + tab_2[i]) \n",
    "print(tab_3)"
   ]
  },
  {
   "cell_type": "markdown",
   "id": "egyptian-indonesian",
   "metadata": {},
   "source": [
    "### 2.3 FacProduct"
   ]
  },
  {
   "cell_type": "code",
   "execution_count": 5,
   "id": "senior-credit",
   "metadata": {},
   "outputs": [
    {
     "name": "stdout",
     "output_type": "stream",
     "text": [
      "[1, 2, 3, 2, 4, 6, 3, 6, 9]\n",
      "36\n"
     ]
    }
   ],
   "source": [
    "tab_1 = [1,2,3]\n",
    "tab_2 = [1,2,3]\n",
    "tab_3 = []\n",
    "somme = 0\n",
    "for i in range(len(tab_1)):\n",
    "    for j in range(len(tab_2)):\n",
    "        tab_3.append(tab_1[i]*tab_2[j])\n",
    "print (tab_3)\n",
    "for k in range(len(tab_3)):\n",
    "    somme += tab_3[k]\n",
    "print(somme)"
   ]
  },
  {
   "cell_type": "markdown",
   "id": "academic-count",
   "metadata": {},
   "source": [
    "### 2.4 Le plus grand"
   ]
  },
  {
   "cell_type": "code",
   "execution_count": null,
   "id": "bibliographic-blast",
   "metadata": {},
   "outputs": [],
   "source": [
    "###Solution Batiste GARRIDO à approfondir\n",
    "items = [-1,2,5,3,8,4,1]\n",
    "for j in range(len(items)):\n",
    "if j == 0:\n",
    "res = items[j]\n",
    "else:\n",
    "if (items[j] > res):\n",
    "res = items[j]\n",
    "item = j\n",
    "(res, item)"
   ]
  },
  {
   "cell_type": "markdown",
   "id": "hindu-prediction",
   "metadata": {},
   "source": [
    "### Target somme"
   ]
  },
  {
   "cell_type": "code",
   "execution_count": 21,
   "id": "unlikely-cigarette",
   "metadata": {},
   "outputs": [
    {
     "ename": "SyntaxError",
     "evalue": "invalid syntax (<ipython-input-21-e1f43d676db2>, line 13)",
     "output_type": "error",
     "traceback": [
      "\u001b[0;36m  File \u001b[0;32m\"<ipython-input-21-e1f43d676db2>\"\u001b[0;36m, line \u001b[0;32m13\u001b[0m\n\u001b[0;31m    if((array[i])+(array[j]) == targetSum):\u001b[0m\n\u001b[0m                                          ^\u001b[0m\n\u001b[0;31mSyntaxError\u001b[0m\u001b[0;31m:\u001b[0m invalid syntax\n"
     ]
    }
   ],
   "source": [
    "###La solution que j'avais en tête avec les deux boucles\n",
    "def target_somme ():\n",
    "    array = [3, 5, -4, 8, 11, 1, -1, 6] \n",
    "    targetSum = 10\n",
    "\n",
    "    for i in range(len(array)):\n",
    "        j = i + 1\n",
    "\n",
    "        if(j < len(array)-1):\n",
    "            for j in range(len(array)):\n",
    "                print ('I : '+i+'; J: '+ j)\n",
    "                print('SOMME : '+ array[i]+(array[j])\n",
    "                if((array[i])+(array[j]) == targetSum):\n",
    "                    return [array[i], array[j]]\n",
    "    return []\n",
    "target_somme()"
   ]
  },
  {
   "cell_type": "code",
   "execution_count": 16,
   "id": "surface-damages",
   "metadata": {},
   "outputs": [
    {
     "data": {
      "text/plain": [
       "3"
      ]
     },
     "execution_count": 16,
     "metadata": {},
     "output_type": "execute_result"
    }
   ],
   "source": [
    "###La solution basé sur l'idée des Benjamin (DALLAR et ROBERT)\n",
    "\n",
    "def target_somme(array, targetSum):\n",
    "    #sol2 -> O(n) time | O(1) space \n",
    "    nums={}\n",
    "    for num in array:\n",
    "        tmp = targetSum - num \n",
    "        if tmp in nums:\n",
    "            return [tmp,num]\n",
    "        else: \n",
    "            nums[num] = True\n",
    "        print(nums)\n",
    "    return []\n",
    "    "
   ]
  },
  {
   "cell_type": "code",
   "execution_count": 20,
   "id": "atmospheric-width",
   "metadata": {},
   "outputs": [
    {
     "data": {
      "text/plain": [
       "[-1, 11]"
      ]
     },
     "execution_count": 20,
     "metadata": {},
     "output_type": "execute_result"
    }
   ],
   "source": [
    "### La solution de Baptiste Garrido\n",
    "\n",
    "def targetSomme2(liste, target):\n",
    "    dico = {}\n",
    "    for item in liste:\n",
    "        dico[target - item] = item\n",
    "        if (item in dico and dico[item] != item):\n",
    "            return [item, dico[item]]\n",
    "    return []\n",
    "targetSomme2([3, 5, -4, 8, 11, 1, -1, 6], 10)"
   ]
  },
  {
   "cell_type": "markdown",
   "id": "complimentary-founder",
   "metadata": {},
   "source": [
    "### La distance de Levenshtein"
   ]
  },
  {
   "cell_type": "code",
   "execution_count": 27,
   "id": "dedicated-movement",
   "metadata": {},
   "outputs": [
    {
     "ename": "SyntaxError",
     "evalue": "invalid syntax (<ipython-input-27-f8aabedde8b4>, line 5)",
     "output_type": "error",
     "traceback": [
      "\u001b[0;36m  File \u001b[0;32m\"<ipython-input-27-f8aabedde8b4>\"\u001b[0;36m, line \u001b[0;32m5\u001b[0m\n\u001b[0;31m    print([for i in range(arr1.length):  matrice[0][i] = i] )\u001b[0m\n\u001b[0m           ^\u001b[0m\n\u001b[0;31mSyntaxError\u001b[0m\u001b[0;31m:\u001b[0m invalid syntax\n"
     ]
    }
   ],
   "source": [
    "### La solution ULCÉ Christ\n",
    "def levenshtein (arr1, arr2):\n",
    "    if (arr1.length == arr2.length):\n",
    "        matrice = [for i in range(arr1.length) matrice[i][0] = i] [for j in range(arr1.length) matrice[0][i] = j]]\n",
    "        print(matrice)\n",
    "tab1 = \"chien\"\n",
    "tab2 = \"niche\"\n",
    "levenshtein(tab1, tab2)"
   ]
  }
 ],
 "metadata": {
  "kernelspec": {
   "display_name": "Python 3",
   "language": "python",
   "name": "python3"
  },
  "language_info": {
   "codemirror_mode": {
    "name": "ipython",
    "version": 3
   },
   "file_extension": ".py",
   "mimetype": "text/x-python",
   "name": "python",
   "nbconvert_exporter": "python",
   "pygments_lexer": "ipython3",
   "version": "3.9.2"
  }
 },
 "nbformat": 4,
 "nbformat_minor": 5
}
