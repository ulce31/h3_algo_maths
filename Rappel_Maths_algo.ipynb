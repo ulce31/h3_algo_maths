{
 "cells": [
  {
   "cell_type": "markdown",
   "id": "passing-episode",
   "metadata": {},
   "source": [
    "# Exercices Algorithmique"
   ]
  },
  {
   "cell_type": "markdown",
   "id": "present-personality",
   "metadata": {},
   "source": [
    "## Bases"
   ]
  },
  {
   "cell_type": "markdown",
   "id": "determined-amber",
   "metadata": {},
   "source": [
    "### 1.1 Simple échange"
   ]
  },
  {
   "cell_type": "code",
   "execution_count": 1,
   "id": "casual-banking",
   "metadata": {},
   "outputs": [],
   "source": [
    "variable_a = 0\n",
    "variable_b = 1\n",
    "tmp = variable_b\n",
    "variable_b = variable_a\n",
    "variable_a = tmp"
   ]
  },
  {
   "cell_type": "markdown",
   "id": "simple-denmark",
   "metadata": {},
   "source": [
    "### 1.2 Le carré"
   ]
  },
  {
   "cell_type": "code",
   "execution_count": 7,
   "id": "graphic-parts",
   "metadata": {},
   "outputs": [
    {
     "name": "stdout",
     "output_type": "stream",
     "text": [
      "Nombre: 4\n"
     ]
    },
    {
     "data": {
      "text/plain": [
       "16"
      ]
     },
     "execution_count": 7,
     "metadata": {},
     "output_type": "execute_result"
    }
   ],
   "source": [
    "nb = int(input(\"Nombre: \"))\n",
    "nb = nb * nb\n",
    "nb"
   ]
  },
  {
   "cell_type": "markdown",
   "id": "impressed-interference",
   "metadata": {},
   "source": [
    "### 1.3 La condition"
   ]
  },
  {
   "cell_type": "code",
   "execution_count": 9,
   "id": "spread-geology",
   "metadata": {},
   "outputs": [
    {
     "name": "stdout",
     "output_type": "stream",
     "text": [
      "Renseignez un nombre: 1\n",
      "positif\n"
     ]
    }
   ],
   "source": [
    "nb = int(input(\"Renseignez un nombre: \"))\n",
    "if nb <= 0:\n",
    "    print(\"négatif\")\n",
    "else : \n",
    "    print(\"positif\")"
   ]
  },
  {
   "cell_type": "markdown",
   "id": "mobile-journalism",
   "metadata": {},
   "source": [
    "### 1.4 Le produit"
   ]
  },
  {
   "cell_type": "code",
   "execution_count": 5,
   "id": "vulnerable-diameter",
   "metadata": {},
   "outputs": [
    {
     "name": "stdout",
     "output_type": "stream",
     "text": [
      "Donnez moi un nombre: -4\n",
      "Donnez moi un second nombre: 5\n",
      "Le résultat de cette opération est négatif\n"
     ]
    }
   ],
   "source": [
    "variable1 = int(input(\"Donnez moi un nombre: \"))\n",
    "variable2 = int(input(\"Donnez moi un second nombre: \"))\n",
    "if variable1*variable2 <= 0:\n",
    "    print (\"Le résultat de cette opération est négatif\")\n",
    "else : \n",
    "     print (\"Le résultat de cette opération est positif\")"
   ]
  },
  {
   "cell_type": "markdown",
   "id": "adjusted-astrology",
   "metadata": {},
   "source": [
    "### 1.5 Calcul"
   ]
  },
  {
   "cell_type": "code",
   "execution_count": 15,
   "id": "typical-hollow",
   "metadata": {},
   "outputs": [
    {
     "name": "stdout",
     "output_type": "stream",
     "text": [
      "Donnez moi un nombre: 10\n",
      "11\n",
      "12\n",
      "13\n",
      "14\n",
      "15\n",
      "16\n",
      "17\n",
      "18\n",
      "19\n",
      "20\n"
     ]
    }
   ],
   "source": [
    "nb = int(input(\"Donnez moi un nombre: \"))\n",
    "start_var = nb + 1\n",
    "for start_var in range(10):\n",
    "    nb = nb + 1\n",
    "    print (nb)"
   ]
  },
  {
   "cell_type": "markdown",
   "id": "breathing-broadcast",
   "metadata": {},
   "source": [
    "### 1.6 Additivité"
   ]
  },
  {
   "cell_type": "code",
   "execution_count": 32,
   "id": "seven-collection",
   "metadata": {},
   "outputs": [
    {
     "name": "stdout",
     "output_type": "stream",
     "text": [
      "un nombre : 5\n",
      "15\n"
     ]
    }
   ],
   "source": [
    "variable_fin = int(input(\"un nombre : \"))\n",
    "somme = 0\n",
    "\n",
    "for i in range(variable_fin):\n",
    "    somme = somme + i + 1\n",
    "print(somme)"
   ]
  },
  {
   "cell_type": "markdown",
   "id": "streaming-visibility",
   "metadata": {},
   "source": [
    "## Tableaux"
   ]
  },
  {
   "cell_type": "markdown",
   "id": "approved-dependence",
   "metadata": {},
   "source": [
    "### 2.1 La somme"
   ]
  },
  {
   "cell_type": "code",
   "execution_count": 10,
   "id": "humanitarian-prison",
   "metadata": {},
   "outputs": [
    {
     "name": "stdout",
     "output_type": "stream",
     "text": [
      "6\n"
     ]
    }
   ],
   "source": [
    "tab = [1,2,3]\n",
    "somme = 0\n",
    "for i in range(len(tab)):\n",
    "    somme += tab[i]\n",
    "print(somme)"
   ]
  },
  {
   "cell_type": "markdown",
   "id": "silent-pulse",
   "metadata": {},
   "source": [
    "### 2.2 La somme : retour"
   ]
  },
  {
   "cell_type": "code",
   "execution_count": 6,
   "id": "duplicate-eugene",
   "metadata": {},
   "outputs": [
    {
     "name": "stdout",
     "output_type": "stream",
     "text": [
      "[2, 4, 6]\n"
     ]
    }
   ],
   "source": [
    "tab_1 = [1,2,3]\n",
    "tab_2 = [1,2,3]\n",
    "tab_3 = [ tab_1[i] + tab_2[i] for i in range(len(tab_1)) ]\n",
    " \n",
    "print(tab_3)"
   ]
  },
  {
   "cell_type": "markdown",
   "id": "egyptian-indonesian",
   "metadata": {},
   "source": [
    "### 2.3 FacProduct"
   ]
  },
  {
   "cell_type": "code",
   "execution_count": 5,
   "id": "senior-credit",
   "metadata": {},
   "outputs": [
    {
     "name": "stdout",
     "output_type": "stream",
     "text": [
      "[1, 2, 3, 2, 4, 6, 3, 6, 9]\n",
      "36\n"
     ]
    }
   ],
   "source": [
    "tab_1 = [1,2,3]\n",
    "tab_2 = [1,2,3]\n",
    "tab_3 = [tab_1[i]*tab_2[j] for i in range(len(tab_1)) for j in range(len(tab_2)) ]\n",
    "somme = 0\n",
    "\n",
    "    \n",
    "        \n",
    "print (tab_3)\n",
    "for k in range(len(tab_3)):\n",
    "    somme += tab_3[k]\n",
    "print(somme)"
   ]
  },
  {
   "cell_type": "markdown",
   "id": "academic-count",
   "metadata": {},
   "source": [
    "### 2.4 Le plus grand"
   ]
  },
  {
   "cell_type": "code",
   "execution_count": null,
   "id": "bibliographic-blast",
   "metadata": {},
   "outputs": [],
   "source": [
    "###Solution Batiste GARRIDO à approfondir\n",
    "items = [-1,2,5,3,8,4,1]\n",
    "for j in range(len(items)):\n",
    "if j == 0:\n",
    "res = items[j]\n",
    "else:\n",
    "if (items[j] > res):\n",
    "res = items[j]\n",
    "item = j\n",
    "(res, item)"
   ]
  },
  {
   "cell_type": "markdown",
   "id": "hindu-prediction",
   "metadata": {},
   "source": [
    "### Target somme"
   ]
  },
  {
   "cell_type": "code",
   "execution_count": 12,
   "id": "unlikely-cigarette",
   "metadata": {},
   "outputs": [
    {
     "ename": "SyntaxError",
     "evalue": "invalid syntax (<ipython-input-12-f42dabb3d73f>, line 6)",
     "output_type": "error",
     "traceback": [
      "\u001b[0;36m  File \u001b[0;32m\"<ipython-input-12-f42dabb3d73f>\"\u001b[0;36m, line \u001b[0;32m6\u001b[0m\n\u001b[0;31m    result = [ array[i], array[j] for i in range(len(array))\u001b[0m\n\u001b[0m                                  ^\u001b[0m\n\u001b[0;31mSyntaxError\u001b[0m\u001b[0;31m:\u001b[0m invalid syntax\n"
     ]
    }
   ],
   "source": [
    "###La solution que j'avais en tête avec les deux boucles\n",
    "def target_somme ():\n",
    "    array = [3, 5, -4, 8, 11, 1, -1, 6] \n",
    "    targetSum = 10\n",
    "\n",
    "    result = [ array[i], array[j] for i in range(len(array)) \n",
    "              for j in range(i+1,len(array))  \n",
    "              if (array[i])+(array[j]) == targetSum ]\n",
    "    return result\n",
    "target_somme()"
   ]
  },
  {
   "cell_type": "code",
   "execution_count": 16,
   "id": "trained-characterization",
   "metadata": {},
   "outputs": [
    {
     "data": {
      "text/plain": [
       "3"
      ]
     },
     "execution_count": 16,
     "metadata": {},
     "output_type": "execute_result"
    }
   ],
   "source": [
    "###La solution basé sur l'idée des Benjamin (DALLAR et ROBERT)\n",
    "\n",
    "def target_somme(array, targetSum):\n",
    "    #sol2 -> O(n) time | O(1) space \n",
    "    nums={}\n",
    "    for num in array:\n",
    "        tmp = targetSum - num \n",
    "        if tmp in nums:\n",
    "            return [tmp,num]\n",
    "        else: \n",
    "            nums[num] = True\n",
    "        print(nums)\n",
    "    return []\n",
    "    "
   ]
  },
  {
   "cell_type": "code",
   "execution_count": 20,
   "id": "purple-invite",
   "metadata": {},
   "outputs": [
    {
     "data": {
      "text/plain": [
       "[-1, 11]"
      ]
     },
     "execution_count": 20,
     "metadata": {},
     "output_type": "execute_result"
    }
   ],
   "source": [
    "### La solution de Baptiste Garrido\n",
    "\n",
    "def targetSomme2(liste, target):\n",
    "    dico = {}\n",
    "    for item in liste:\n",
    "        dico[target - item] = item\n",
    "        if (item in dico and dico[item] != item):\n",
    "            return [item, dico[item]]\n",
    "    return []\n",
    "targetSomme2([3, 5, -4, 8, 11, 1, -1, 6], 10)"
   ]
  },
  {
   "cell_type": "markdown",
   "id": "violent-termination",
   "metadata": {},
   "source": [
    "### La distance de Levenshtein"
   ]
  },
  {
   "cell_type": "code",
   "execution_count": 18,
   "id": "anticipated-monthly",
   "metadata": {},
   "outputs": [],
   "source": [
    "def creation_de_la_matrice (arr1, arr2):\n",
    "    matrice = [ [ x for x in range(len(arr1) + 1) ] for j in range(len(arr2) + 1) ];\n",
    "    for i in range(1, len(str2)+1):\n",
    "        matrice[i][0] = i\n",
    "    return matrice\n",
    "        "
   ]
  },
  {
   "cell_type": "code",
   "execution_count": 1,
   "id": "requested-sculpture",
   "metadata": {},
   "outputs": [
    {
     "ename": "NameError",
     "evalue": "name 'creation_de_la_matrice' is not defined",
     "output_type": "error",
     "traceback": [
      "\u001b[0;31m---------------------------------------------------------------------------\u001b[0m",
      "\u001b[0;31mNameError\u001b[0m                                 Traceback (most recent call last)",
      "\u001b[0;32m<ipython-input-1-8347ce8f4070>\u001b[0m in \u001b[0;36m<module>\u001b[0;34m\u001b[0m\n\u001b[1;32m     12\u001b[0m \u001b[0mtab1\u001b[0m \u001b[0;34m=\u001b[0m \u001b[0;34m\"chien\"\u001b[0m\u001b[0;34m\u001b[0m\u001b[0;34m\u001b[0m\u001b[0m\n\u001b[1;32m     13\u001b[0m \u001b[0mtab2\u001b[0m \u001b[0;34m=\u001b[0m \u001b[0;34m\"niche\"\u001b[0m\u001b[0;34m\u001b[0m\u001b[0;34m\u001b[0m\u001b[0m\n\u001b[0;32m---> 14\u001b[0;31m \u001b[0mlevenshtein\u001b[0m\u001b[0;34m(\u001b[0m\u001b[0mtab1\u001b[0m\u001b[0;34m,\u001b[0m \u001b[0mtab2\u001b[0m\u001b[0;34m)\u001b[0m\u001b[0;34m\u001b[0m\u001b[0;34m\u001b[0m\u001b[0m\n\u001b[0m",
      "\u001b[0;32m<ipython-input-1-8347ce8f4070>\u001b[0m in \u001b[0;36mlevenshtein\u001b[0;34m(arr1, arr2)\u001b[0m\n\u001b[1;32m      2\u001b[0m \u001b[0;32mdef\u001b[0m \u001b[0mlevenshtein\u001b[0m \u001b[0;34m(\u001b[0m\u001b[0marr1\u001b[0m\u001b[0;34m,\u001b[0m \u001b[0marr2\u001b[0m\u001b[0;34m)\u001b[0m\u001b[0;34m:\u001b[0m\u001b[0;34m\u001b[0m\u001b[0;34m\u001b[0m\u001b[0m\n\u001b[1;32m      3\u001b[0m     \u001b[0;32mif\u001b[0m \u001b[0;34m(\u001b[0m\u001b[0mlen\u001b[0m\u001b[0;34m(\u001b[0m\u001b[0marr1\u001b[0m\u001b[0;34m)\u001b[0m \u001b[0;34m==\u001b[0m \u001b[0mlen\u001b[0m\u001b[0;34m(\u001b[0m\u001b[0marr2\u001b[0m\u001b[0;34m)\u001b[0m\u001b[0;34m)\u001b[0m\u001b[0;34m:\u001b[0m\u001b[0;34m\u001b[0m\u001b[0;34m\u001b[0m\u001b[0m\n\u001b[0;32m----> 4\u001b[0;31m         \u001b[0mmatrice\u001b[0m \u001b[0;34m=\u001b[0m \u001b[0mcreation_de_la_matrice\u001b[0m\u001b[0;34m(\u001b[0m\u001b[0marr1\u001b[0m\u001b[0;34m,\u001b[0m \u001b[0marr2\u001b[0m\u001b[0;34m)\u001b[0m\u001b[0;34m\u001b[0m\u001b[0;34m\u001b[0m\u001b[0m\n\u001b[0m\u001b[1;32m      5\u001b[0m         \u001b[0;32mfor\u001b[0m \u001b[0mi\u001b[0m \u001b[0;32min\u001b[0m \u001b[0mrange\u001b[0m\u001b[0;34m(\u001b[0m\u001b[0;36m1\u001b[0m\u001b[0;34m,\u001b[0m \u001b[0mlen\u001b[0m\u001b[0;34m(\u001b[0m\u001b[0marr2\u001b[0m\u001b[0;34m)\u001b[0m\u001b[0;34m+\u001b[0m\u001b[0;36m1\u001b[0m\u001b[0;34m)\u001b[0m\u001b[0;34m:\u001b[0m\u001b[0;34m\u001b[0m\u001b[0;34m\u001b[0m\u001b[0m\n\u001b[1;32m      6\u001b[0m             \u001b[0;32mfor\u001b[0m \u001b[0mj\u001b[0m \u001b[0;32min\u001b[0m \u001b[0mrange\u001b[0m\u001b[0;34m(\u001b[0m\u001b[0;36m1\u001b[0m\u001b[0;34m,\u001b[0m \u001b[0mlen\u001b[0m\u001b[0;34m(\u001b[0m\u001b[0marr1\u001b[0m\u001b[0;34m)\u001b[0m\u001b[0;34m+\u001b[0m\u001b[0;36m1\u001b[0m\u001b[0;34m)\u001b[0m\u001b[0;34m:\u001b[0m\u001b[0;34m\u001b[0m\u001b[0;34m\u001b[0m\u001b[0m\n",
      "\u001b[0;31mNameError\u001b[0m: name 'creation_de_la_matrice' is not defined"
     ]
    }
   ],
   "source": [
    "### La solution \n",
    "def levenshtein (arr1, arr2):\n",
    "    if (len(arr1) == len(arr2)):\n",
    "        matrice = creation_de_la_matrice(arr1, arr2)\n",
    "        for i in range(1, len(arr2)+1):\n",
    "            for j in range(1, len(arr1)+1):\n",
    "                if arr2[i-1] == arr1[j-1]:\n",
    "                    matrice[i][j] = matrice[i-1][j-1]\n",
    "                    \n",
    "            \n",
    "\n",
    "tab1 = \"chien\"\n",
    "tab2 = \"niche\"\n",
    "levenshtein(tab1, tab2)"
   ]
  },
  {
   "cell_type": "code",
   "execution_count": null,
   "id": "impressive-frame",
   "metadata": {},
   "outputs": [],
   "source": []
  }
 ],
 "metadata": {
  "kernelspec": {
   "display_name": "Python 3",
   "language": "python",
   "name": "python3"
  },
  "language_info": {
   "codemirror_mode": {
    "name": "ipython",
    "version": 3
   },
   "file_extension": ".py",
   "mimetype": "text/x-python",
   "name": "python",
   "nbconvert_exporter": "python",
   "pygments_lexer": "ipython3",
   "version": "3.9.2"
  }
 },
 "nbformat": 4,
 "nbformat_minor": 5
}
